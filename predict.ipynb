{
 "cells": [
  {
   "cell_type": "markdown",
   "source": [
    "Этот код импортирует несколько библиотек (joblib, numpy, pandas, warnings, matplotlib), а также некоторые модули (cols, primary_column) и функции (flatten_cols, encoder) из других файлов (config.py, utils.py).\n",
    "\n",
    "После импорта код не выполняет никаких действий, а только подготавливает необходимые библиотеки и функции для дальнейшего использования. Он готовит рабочую среду для работы с данными и их обработки, включая загрузку данных (например, из файла) и их анализ."
   ],
   "metadata": {
    "collapsed": false
   },
   "id": "7192bc4ef96de965"
  },
  {
   "cell_type": "code",
   "execution_count": 2,
   "outputs": [],
   "source": [
    "import joblib\n",
    "import numpy as np\n",
    "import pandas as pd\n",
    "import warnings\n",
    "from matplotlib import pyplot as plt\n",
    "from config import cols, primary_column\n",
    "from utils import flatten_cols, encoder"
   ],
   "metadata": {
    "collapsed": false,
    "ExecuteTime": {
     "end_time": "2024-03-26T01:10:32.171780517Z",
     "start_time": "2024-03-26T01:10:32.126586034Z"
    }
   },
   "id": "1f4eba98869efed6"
  },
  {
   "cell_type": "markdown",
   "source": [
    "Этот код определяет стиль графиков с помощью метода plt.style.use('ggplot'). Он устанавливает стиль ggplot для всех последующих графиков, что позволяет им выглядеть в соответствии с этим стилем.\n",
    "\n",
    "Далее, код использованием warnings.filterwarnings('ignore') отключает вывод предупреждений (warnings), что позволяет игнорировать все предупреждения, которые могут появляться при выполнении кода. Это может быть полезно, если вы хотите избежать вывода лишних сообщений во время выполнения программы."
   ],
   "metadata": {
    "collapsed": false
   },
   "id": "5cf67a4e8d37345e"
  },
  {
   "cell_type": "code",
   "execution_count": 3,
   "outputs": [],
   "source": [
    "plt.style.use('ggplot')  # определяем стиль\n",
    "warnings.filterwarnings('ignore')  # исключение конфигурационных строчек (варнинги)"
   ],
   "metadata": {
    "collapsed": false,
    "ExecuteTime": {
     "end_time": "2024-03-26T01:10:32.557882814Z",
     "start_time": "2024-03-26T01:10:32.555643795Z"
    }
   },
   "id": "9e233d9d890d5edb"
  },
  {
   "cell_type": "markdown",
   "source": [
    "Этот код загружает данные из файла CSV с именем dataset_predict.csv, который находится в папке datasets в текущем рабочем каталоге. Данные загружаются в виде pandas DataFrame с помощью функции pd.read_csv().\n",
    "\n",
    "Параметр encoding=\"utf-8\" указывает на кодировку файла, которая позволяет правильно интерпретировать специальные символы и символы не на английском языке.\n",
    "\n",
    "Параметр delimiter=\";\" указывает разделитель столбцов в файле CSV. В данном случае, используется точка с запятой ; в качестве разделителя столбцов.\n",
    "\n",
    "После выполнения этой строки кода, данные из файла CSV будут загружены в переменную df в виде DataFrame для дальнейшей обработки и анализа."
   ],
   "metadata": {
    "collapsed": false
   },
   "id": "f110ab3c52d7feb1"
  },
  {
   "cell_type": "code",
   "execution_count": 4,
   "outputs": [],
   "source": [
    "df = pd.read_csv('./datasets/dataset_predict.csv', encoding=\"utf-8\", delimiter=\";\")"
   ],
   "metadata": {
    "collapsed": false,
    "ExecuteTime": {
     "end_time": "2024-03-26T01:10:33.022186622Z",
     "start_time": "2024-03-26T01:10:33.010369010Z"
    }
   },
   "id": "b3eca7e87f80e4bc"
  },
  {
   "cell_type": "markdown",
   "source": [
    "Одним из способов работы с данными в pandas DataFrame является изменение структуры столбцов с помощью функции flatten_cols(). В данном случае, код принимает переменную cols, которая содержит названия столбцов, и применяет к нему функцию flatten_cols() с аргументом 'name'.\n",
    "\n",
    "Функция flatten_cols() скорее всего выполняет “сплющивание” (flatten) имен столбцов в DataFrame - разворачивает их из многомерной структуры в одномерную.\n",
    "\n",
    "Результат применения этой функции присваивается обратно в переменную cols, что позволяет сохранить измененную структуру столбцов для дальнейшего использования в анализе данных."
   ],
   "metadata": {
    "collapsed": false
   },
   "id": "64bd3b333f221f1a"
  },
  {
   "cell_type": "code",
   "execution_count": 5,
   "outputs": [],
   "source": [
    "cols = flatten_cols(cols, 'name')"
   ],
   "metadata": {
    "collapsed": false,
    "ExecuteTime": {
     "end_time": "2024-03-26T01:10:34.328429557Z",
     "start_time": "2024-03-26T01:10:34.324678002Z"
    }
   },
   "id": "e3693fd2827b4071"
  },
  {
   "cell_type": "markdown",
   "source": [
    "Этот код выполняет следующие операции:\n",
    "\n",
    "Создает новый DataFrame df_test, которыйЭтот код выполняет следующие действия:\n",
    "\n",
    "Создается новый DataFrame df_test, который содержит только столбцы из переменной cols. Это достигается путем обращения к DataFrame df и используя cols в качестве списка столбцов.\n",
    "\n",
    "Затем из DataFrame df_test удаляется столбец, указанный в переменной primary_column, с помощью функции drop() с параметром axis=1.\n",
    "\n",
    "После этого удаляются строки из DataFrame df_test, содержащие пустые значения (NaN) с помощью dropna() - функция удаляет строки, в которых есть хотя бы одно пустое значение.\n",
    "\n",
    "Затем повторно обращаемся к исходному DataFrame df и извлекаем только столбцы из переменной cols. Затем из этого DataFrame удаляются строки с пустыми значениями с помощью dropna().\n",
    "\n",
    "Таким образом, код фильтрует данные в DataFrame df по столбцам и удаляет строки с пустыми значениями, сохраняя две обработанные версии данных в DataFrame df_test и изначальной переменной df."
   ],
   "metadata": {
    "collapsed": false
   },
   "id": "9641c8de1add7c89"
  },
  {
   "cell_type": "code",
   "execution_count": 6,
   "outputs": [],
   "source": [
    "df_test = df[cols]\n",
    "df_test = df_test.drop(primary_column, axis=1)\n",
    "df_test = df_test.dropna()\n",
    "df = df[cols].dropna()"
   ],
   "metadata": {
    "collapsed": false,
    "ExecuteTime": {
     "end_time": "2024-03-26T01:10:35.009497583Z",
     "start_time": "2024-03-26T01:10:35.007155772Z"
    }
   },
   "id": "9ba6d7f003071c64"
  },
  {
   "cell_type": "markdown",
   "source": [
    "В цикле for, для каждого столбца col из списка cols, проверяется, содержит ли название столбца подстроку “need_encode”.\n",
    "Если условие if \"need_encode\" in col выполняется (т.е., столбец требует кодирования), то выполняются следующие действия:\n",
    "Значения столбца col[\"name\"] преобразуются в строковый тип данных с помощью метода .astype(\"string\").\n",
    "Затем вызывается функция encoder, принимающая df_test (DataFrame), название столбца col[\"name\"] и флаг True.\n",
    "Таким образом, этот код предположительно выполняет кодирование определенных столбцов в DataFrame df_test, если их названия (полученные из списка cols) содержат подстроку “need_encode”.Функция encoder скорее всего используется для выполнения какого-то специального кодирования для этих столбцов."
   ],
   "metadata": {
    "collapsed": false
   },
   "id": "22a221a76cfb9397"
  },
  {
   "cell_type": "code",
   "execution_count": 7,
   "outputs": [],
   "source": [
    "for col in cols:\n",
    "    if \"need_encode\" in col:\n",
    "        df_test[col[\"name\"]] = df_test[col[\"name\"]].astype(\"string\")\n",
    "        df_test = encoder(df_test, col[\"name\"], True)"
   ],
   "metadata": {
    "collapsed": false,
    "ExecuteTime": {
     "end_time": "2024-03-26T01:10:35.718987058Z",
     "start_time": "2024-03-26T01:10:35.716031044Z"
    }
   },
   "id": "1121ae333f201751"
  },
  {
   "cell_type": "markdown",
   "source": [
    "Этот код загружает модель машинного обучения из файла ‘model.sav’ с помощью функции joblib.load(). Предполагается, что модель была сохранена в файле ‘model.sav’ с использованием библиотеки joblib ранее.\n",
    "\n",
    "Затем модель используется для прогнозирования на данных из DataFrame df_test с помощью метода predict(), результаты сохраняются в переменную result.\n",
    "\n",
    "Далее, результаты прогнозирования упаковываются в DataFrame r с названием столбца ‘severity’.\n",
    "\n",
    "Затем создается новый DataFrame g, объединяя исходный DataFrame df с результатами прогнозирования. Они объединяются по индексу (значениям индексов строк).\n",
    "\n",
    "Наконец, устанавливается опция для отображения максимального количества строк в выводе, и выводится объединенный DataFrame g, который содержит исходные данные и предсказанные значения ‘severity’."
   ],
   "metadata": {
    "collapsed": false
   },
   "id": "abca67d0275b4cda"
  },
  {
   "cell_type": "code",
   "execution_count": 14,
   "outputs": [
    {
     "data": {
      "text/plain": "    index  time  driving_experience_5  week_day  month  type_of_road  \\\n0       1    13                   2.0         7      2           1.2   \n1       2    11                   1.0         7      7           1.2   \n2       3    15                   1.0         3      5           1.2   \n3       4    17                   3.0         6      7           1.2   \n4       7    19                   1.0         6      4           2.0   \n5       8    19                   2.0         6      5           2.0   \n6       9    15                   3.0         1      2           1.2   \n7      10    18                   3.0         2      4           1.2   \n8      11    13                   1.0         3     10           2.0   \n9      12    19                   4.0         6     10           2.0   \n10     15     9                   3.0         5      9           2.0   \n11     17    19                   4.0         1     12           1.2   \n12     18    21                   5.0         7      7           1.2   \n13     19    11                   5.0         1     12           1.2   \n14     20     8                   3.0         2      6           1.2   \n15     21    11                   3.0         2      5           2.0   \n16     22    15                   6.0         2      7           2.0   \n17     23    21                   5.0         4      3           2.0   \n18     24    20                   3.0         1      6           2.0   \n19     25    18                   1.0         4      5           2.0   \n\n    traffic_direction_separator  intersection_type  traffic_light  \\\n0                             0                  3              0   \n1                             0                  3              0   \n2                             0                  3              0   \n3                             0                  3              0   \n4                             0                  1              0   \n5                             0                  1              0   \n6                             0                  1              1   \n7                             0                  1              1   \n8                             0                  3              1   \n9                             0                 -1              0   \n10                            0                  3              1   \n11                            0                  3              0   \n12                            0                  3              0   \n13                            0                  3              0   \n14                            0                  3              0   \n15                            0                  1              0   \n16                            0                  3              1   \n17                            2                  1              0   \n18                            2                  1              0   \n19                            1                 -1              0   \n\n    availability_of_a_pedestrian_crossing_within_a_radius_of_50_m  ...  \\\n0                                                   1              ...   \n1                                                   1              ...   \n2                                                   1              ...   \n3                                                   1              ...   \n4                                                   1              ...   \n5                                                   1              ...   \n6                                                   1              ...   \n7                                                   1              ...   \n8                                                   1              ...   \n9                                                   1              ...   \n10                                                  1              ...   \n11                                                  1              ...   \n12                                                  1              ...   \n13                                                  1              ...   \n14                                                  1              ...   \n15                                                  1              ...   \n16                                                  1              ...   \n17                                                  1              ...   \n18                                                  1              ...   \n19                                                  0              ...   \n\n    partial_pressure_of_water_vapor  relative_humidity  saturation_deficit  \\\n0                              0.98                 49                1.02   \n1                             16.04                 58               11.61   \n2                              9.44                 57                7.12   \n3                             25.22                 56               19.82   \n4                              7.89                 84                1.50   \n5                              6.48                 23               21.68   \n6                              0.86                 59                0.60   \n7                              4.26                 46                5.00   \n8                              4.02                 28               10.33   \n9                              6.40                 97                0.20   \n10                            11.75                 54               10.01   \n11                             5.39                 91                0.53   \n12                            19.05                 60               12.70   \n13                             1.90                 75                0.63   \n14                            12.41                 93                0.93   \n15                             4.27                 22               15.15   \n16                            25.01                 51               24.03   \n17                             2.75                 53                2.44   \n18                            12.85                 85                2.27   \n19                             9.75                 33               19.80   \n\n    atmospheric_pressure_at_station_level  atmospheric_pressure_at_sea_level  \\\n0                                  1014.8                             1027.0   \n1                                  1005.3                             1015.7   \n2                                   986.3                              996.9   \n3                                   997.0                             1007.0   \n4                                   992.9                             1003.9   \n5                                  1002.1                             1012.5   \n6                                  1006.2                             1018.4   \n7                                  1002.9                             1014.0   \n8                                  1010.4                             1021.4   \n9                                   978.0                              989.0   \n10                                 1002.4                             1013.0   \n11                                 1002.1                             1013.5   \n12                                  995.3                             1005.5   \n13                                 1008.7                             1020.6   \n14                                  995.7                             1006.5   \n15                                 1004.5                             1015.2   \n16                                  993.1                             1003.1   \n17                                 1006.1                             1017.6   \n18                                  988.9                              999.5   \n19                                  991.3                             1001.6   \n\n    wind_speed  precipitation_mm  vehicle_type_category   general_injuries  \\\n0            3              -1.0                       3                 1   \n1            1              -1.0                       3                 0   \n2            4              -1.0                       3                 0   \n3            2              -1.0                       3                 0   \n4            1               0.1                       3                 0   \n5            3              -1.0                       3                 1   \n6            5              -1.0                       3                 1   \n7            1              -1.0                       3                 0   \n8            5              -1.0                       6                 0   \n9            5              26.4                       3                 1   \n10           1              -1.0                       3                 0   \n11           1               0.3                       3                 1   \n12           2              -1.0                       3                 0   \n13           5              -1.0                       3                 0   \n14           1               9.3                       3                 1   \n15           1              -1.0                       3                 2   \n16           1              -1.0                       3                 2   \n17           1              -1.0                       3                 0   \n18           3               7.8                       3                 0   \n19           1              -1.0                       3                 1   \n\n    severity  \n0        1.0  \n1        0.0  \n2        0.0  \n3        0.0  \n4        0.0  \n5        1.0  \n6        1.0  \n7        0.0  \n8        0.0  \n9        1.0  \n10       0.0  \n11       1.0  \n12       0.0  \n13       0.0  \n14       1.0  \n15       1.0  \n16       2.0  \n17       0.0  \n18       0.0  \n19       1.0  \n\n[20 rows x 36 columns]",
      "text/html": "<div>\n<style scoped>\n    .dataframe tbody tr th:only-of-type {\n        vertical-align: middle;\n    }\n\n    .dataframe tbody tr th {\n        vertical-align: top;\n    }\n\n    .dataframe thead th {\n        text-align: right;\n    }\n</style>\n<table border=\"1\" class=\"dataframe\">\n  <thead>\n    <tr style=\"text-align: right;\">\n      <th></th>\n      <th>index</th>\n      <th>time</th>\n      <th>driving_experience_5</th>\n      <th>week_day</th>\n      <th>month</th>\n      <th>type_of_road</th>\n      <th>traffic_direction_separator</th>\n      <th>intersection_type</th>\n      <th>traffic_light</th>\n      <th>availability_of_a_pedestrian_crossing_within_a_radius_of_50_m</th>\n      <th>...</th>\n      <th>partial_pressure_of_water_vapor</th>\n      <th>relative_humidity</th>\n      <th>saturation_deficit</th>\n      <th>atmospheric_pressure_at_station_level</th>\n      <th>atmospheric_pressure_at_sea_level</th>\n      <th>wind_speed</th>\n      <th>precipitation_mm</th>\n      <th>vehicle_type_category</th>\n      <th>general_injuries</th>\n      <th>severity</th>\n    </tr>\n  </thead>\n  <tbody>\n    <tr>\n      <th>0</th>\n      <td>1</td>\n      <td>13</td>\n      <td>2.0</td>\n      <td>7</td>\n      <td>2</td>\n      <td>1.2</td>\n      <td>0</td>\n      <td>3</td>\n      <td>0</td>\n      <td>1</td>\n      <td>...</td>\n      <td>0.98</td>\n      <td>49</td>\n      <td>1.02</td>\n      <td>1014.8</td>\n      <td>1027.0</td>\n      <td>3</td>\n      <td>-1.0</td>\n      <td>3</td>\n      <td>1</td>\n      <td>1.0</td>\n    </tr>\n    <tr>\n      <th>1</th>\n      <td>2</td>\n      <td>11</td>\n      <td>1.0</td>\n      <td>7</td>\n      <td>7</td>\n      <td>1.2</td>\n      <td>0</td>\n      <td>3</td>\n      <td>0</td>\n      <td>1</td>\n      <td>...</td>\n      <td>16.04</td>\n      <td>58</td>\n      <td>11.61</td>\n      <td>1005.3</td>\n      <td>1015.7</td>\n      <td>1</td>\n      <td>-1.0</td>\n      <td>3</td>\n      <td>0</td>\n      <td>0.0</td>\n    </tr>\n    <tr>\n      <th>2</th>\n      <td>3</td>\n      <td>15</td>\n      <td>1.0</td>\n      <td>3</td>\n      <td>5</td>\n      <td>1.2</td>\n      <td>0</td>\n      <td>3</td>\n      <td>0</td>\n      <td>1</td>\n      <td>...</td>\n      <td>9.44</td>\n      <td>57</td>\n      <td>7.12</td>\n      <td>986.3</td>\n      <td>996.9</td>\n      <td>4</td>\n      <td>-1.0</td>\n      <td>3</td>\n      <td>0</td>\n      <td>0.0</td>\n    </tr>\n    <tr>\n      <th>3</th>\n      <td>4</td>\n      <td>17</td>\n      <td>3.0</td>\n      <td>6</td>\n      <td>7</td>\n      <td>1.2</td>\n      <td>0</td>\n      <td>3</td>\n      <td>0</td>\n      <td>1</td>\n      <td>...</td>\n      <td>25.22</td>\n      <td>56</td>\n      <td>19.82</td>\n      <td>997.0</td>\n      <td>1007.0</td>\n      <td>2</td>\n      <td>-1.0</td>\n      <td>3</td>\n      <td>0</td>\n      <td>0.0</td>\n    </tr>\n    <tr>\n      <th>4</th>\n      <td>7</td>\n      <td>19</td>\n      <td>1.0</td>\n      <td>6</td>\n      <td>4</td>\n      <td>2.0</td>\n      <td>0</td>\n      <td>1</td>\n      <td>0</td>\n      <td>1</td>\n      <td>...</td>\n      <td>7.89</td>\n      <td>84</td>\n      <td>1.50</td>\n      <td>992.9</td>\n      <td>1003.9</td>\n      <td>1</td>\n      <td>0.1</td>\n      <td>3</td>\n      <td>0</td>\n      <td>0.0</td>\n    </tr>\n    <tr>\n      <th>5</th>\n      <td>8</td>\n      <td>19</td>\n      <td>2.0</td>\n      <td>6</td>\n      <td>5</td>\n      <td>2.0</td>\n      <td>0</td>\n      <td>1</td>\n      <td>0</td>\n      <td>1</td>\n      <td>...</td>\n      <td>6.48</td>\n      <td>23</td>\n      <td>21.68</td>\n      <td>1002.1</td>\n      <td>1012.5</td>\n      <td>3</td>\n      <td>-1.0</td>\n      <td>3</td>\n      <td>1</td>\n      <td>1.0</td>\n    </tr>\n    <tr>\n      <th>6</th>\n      <td>9</td>\n      <td>15</td>\n      <td>3.0</td>\n      <td>1</td>\n      <td>2</td>\n      <td>1.2</td>\n      <td>0</td>\n      <td>1</td>\n      <td>1</td>\n      <td>1</td>\n      <td>...</td>\n      <td>0.86</td>\n      <td>59</td>\n      <td>0.60</td>\n      <td>1006.2</td>\n      <td>1018.4</td>\n      <td>5</td>\n      <td>-1.0</td>\n      <td>3</td>\n      <td>1</td>\n      <td>1.0</td>\n    </tr>\n    <tr>\n      <th>7</th>\n      <td>10</td>\n      <td>18</td>\n      <td>3.0</td>\n      <td>2</td>\n      <td>4</td>\n      <td>1.2</td>\n      <td>0</td>\n      <td>1</td>\n      <td>1</td>\n      <td>1</td>\n      <td>...</td>\n      <td>4.26</td>\n      <td>46</td>\n      <td>5.00</td>\n      <td>1002.9</td>\n      <td>1014.0</td>\n      <td>1</td>\n      <td>-1.0</td>\n      <td>3</td>\n      <td>0</td>\n      <td>0.0</td>\n    </tr>\n    <tr>\n      <th>8</th>\n      <td>11</td>\n      <td>13</td>\n      <td>1.0</td>\n      <td>3</td>\n      <td>10</td>\n      <td>2.0</td>\n      <td>0</td>\n      <td>3</td>\n      <td>1</td>\n      <td>1</td>\n      <td>...</td>\n      <td>4.02</td>\n      <td>28</td>\n      <td>10.33</td>\n      <td>1010.4</td>\n      <td>1021.4</td>\n      <td>5</td>\n      <td>-1.0</td>\n      <td>6</td>\n      <td>0</td>\n      <td>0.0</td>\n    </tr>\n    <tr>\n      <th>9</th>\n      <td>12</td>\n      <td>19</td>\n      <td>4.0</td>\n      <td>6</td>\n      <td>10</td>\n      <td>2.0</td>\n      <td>0</td>\n      <td>-1</td>\n      <td>0</td>\n      <td>1</td>\n      <td>...</td>\n      <td>6.40</td>\n      <td>97</td>\n      <td>0.20</td>\n      <td>978.0</td>\n      <td>989.0</td>\n      <td>5</td>\n      <td>26.4</td>\n      <td>3</td>\n      <td>1</td>\n      <td>1.0</td>\n    </tr>\n    <tr>\n      <th>10</th>\n      <td>15</td>\n      <td>9</td>\n      <td>3.0</td>\n      <td>5</td>\n      <td>9</td>\n      <td>2.0</td>\n      <td>0</td>\n      <td>3</td>\n      <td>1</td>\n      <td>1</td>\n      <td>...</td>\n      <td>11.75</td>\n      <td>54</td>\n      <td>10.01</td>\n      <td>1002.4</td>\n      <td>1013.0</td>\n      <td>1</td>\n      <td>-1.0</td>\n      <td>3</td>\n      <td>0</td>\n      <td>0.0</td>\n    </tr>\n    <tr>\n      <th>11</th>\n      <td>17</td>\n      <td>19</td>\n      <td>4.0</td>\n      <td>1</td>\n      <td>12</td>\n      <td>1.2</td>\n      <td>0</td>\n      <td>3</td>\n      <td>0</td>\n      <td>1</td>\n      <td>...</td>\n      <td>5.39</td>\n      <td>91</td>\n      <td>0.53</td>\n      <td>1002.1</td>\n      <td>1013.5</td>\n      <td>1</td>\n      <td>0.3</td>\n      <td>3</td>\n      <td>1</td>\n      <td>1.0</td>\n    </tr>\n    <tr>\n      <th>12</th>\n      <td>18</td>\n      <td>21</td>\n      <td>5.0</td>\n      <td>7</td>\n      <td>7</td>\n      <td>1.2</td>\n      <td>0</td>\n      <td>3</td>\n      <td>0</td>\n      <td>1</td>\n      <td>...</td>\n      <td>19.05</td>\n      <td>60</td>\n      <td>12.70</td>\n      <td>995.3</td>\n      <td>1005.5</td>\n      <td>2</td>\n      <td>-1.0</td>\n      <td>3</td>\n      <td>0</td>\n      <td>0.0</td>\n    </tr>\n    <tr>\n      <th>13</th>\n      <td>19</td>\n      <td>11</td>\n      <td>5.0</td>\n      <td>1</td>\n      <td>12</td>\n      <td>1.2</td>\n      <td>0</td>\n      <td>3</td>\n      <td>0</td>\n      <td>1</td>\n      <td>...</td>\n      <td>1.90</td>\n      <td>75</td>\n      <td>0.63</td>\n      <td>1008.7</td>\n      <td>1020.6</td>\n      <td>5</td>\n      <td>-1.0</td>\n      <td>3</td>\n      <td>0</td>\n      <td>0.0</td>\n    </tr>\n    <tr>\n      <th>14</th>\n      <td>20</td>\n      <td>8</td>\n      <td>3.0</td>\n      <td>2</td>\n      <td>6</td>\n      <td>1.2</td>\n      <td>0</td>\n      <td>3</td>\n      <td>0</td>\n      <td>1</td>\n      <td>...</td>\n      <td>12.41</td>\n      <td>93</td>\n      <td>0.93</td>\n      <td>995.7</td>\n      <td>1006.5</td>\n      <td>1</td>\n      <td>9.3</td>\n      <td>3</td>\n      <td>1</td>\n      <td>1.0</td>\n    </tr>\n    <tr>\n      <th>15</th>\n      <td>21</td>\n      <td>11</td>\n      <td>3.0</td>\n      <td>2</td>\n      <td>5</td>\n      <td>2.0</td>\n      <td>0</td>\n      <td>1</td>\n      <td>0</td>\n      <td>1</td>\n      <td>...</td>\n      <td>4.27</td>\n      <td>22</td>\n      <td>15.15</td>\n      <td>1004.5</td>\n      <td>1015.2</td>\n      <td>1</td>\n      <td>-1.0</td>\n      <td>3</td>\n      <td>2</td>\n      <td>1.0</td>\n    </tr>\n    <tr>\n      <th>16</th>\n      <td>22</td>\n      <td>15</td>\n      <td>6.0</td>\n      <td>2</td>\n      <td>7</td>\n      <td>2.0</td>\n      <td>0</td>\n      <td>3</td>\n      <td>1</td>\n      <td>1</td>\n      <td>...</td>\n      <td>25.01</td>\n      <td>51</td>\n      <td>24.03</td>\n      <td>993.1</td>\n      <td>1003.1</td>\n      <td>1</td>\n      <td>-1.0</td>\n      <td>3</td>\n      <td>2</td>\n      <td>2.0</td>\n    </tr>\n    <tr>\n      <th>17</th>\n      <td>23</td>\n      <td>21</td>\n      <td>5.0</td>\n      <td>4</td>\n      <td>3</td>\n      <td>2.0</td>\n      <td>2</td>\n      <td>1</td>\n      <td>0</td>\n      <td>1</td>\n      <td>...</td>\n      <td>2.75</td>\n      <td>53</td>\n      <td>2.44</td>\n      <td>1006.1</td>\n      <td>1017.6</td>\n      <td>1</td>\n      <td>-1.0</td>\n      <td>3</td>\n      <td>0</td>\n      <td>0.0</td>\n    </tr>\n    <tr>\n      <th>18</th>\n      <td>24</td>\n      <td>20</td>\n      <td>3.0</td>\n      <td>1</td>\n      <td>6</td>\n      <td>2.0</td>\n      <td>2</td>\n      <td>1</td>\n      <td>0</td>\n      <td>1</td>\n      <td>...</td>\n      <td>12.85</td>\n      <td>85</td>\n      <td>2.27</td>\n      <td>988.9</td>\n      <td>999.5</td>\n      <td>3</td>\n      <td>7.8</td>\n      <td>3</td>\n      <td>0</td>\n      <td>0.0</td>\n    </tr>\n    <tr>\n      <th>19</th>\n      <td>25</td>\n      <td>18</td>\n      <td>1.0</td>\n      <td>4</td>\n      <td>5</td>\n      <td>2.0</td>\n      <td>1</td>\n      <td>-1</td>\n      <td>0</td>\n      <td>0</td>\n      <td>...</td>\n      <td>9.75</td>\n      <td>33</td>\n      <td>19.80</td>\n      <td>991.3</td>\n      <td>1001.6</td>\n      <td>1</td>\n      <td>-1.0</td>\n      <td>3</td>\n      <td>1</td>\n      <td>1.0</td>\n    </tr>\n  </tbody>\n</table>\n<p>20 rows × 36 columns</p>\n</div>"
     },
     "execution_count": 14,
     "metadata": {},
     "output_type": "execute_result"
    }
   ],
   "source": [
    "model = joblib.load('model.sav')\n",
    "result = model.predict(df_test.values)\n",
    "r = pd.DataFrame(np.array(result), columns=['severity'])\n",
    "g = pd.concat([df.reset_index(), r], axis=1)\n",
    "pd.set_option('display.max_rows', None)\n",
    "g"
   ],
   "metadata": {
    "collapsed": false,
    "ExecuteTime": {
     "end_time": "2024-03-26T01:12:55.731028689Z",
     "start_time": "2024-03-26T01:12:55.665228705Z"
    }
   },
   "id": "3885ae8316b026a5"
  }
 ],
 "metadata": {
  "kernelspec": {
   "display_name": "Python 3",
   "language": "python",
   "name": "python3"
  },
  "language_info": {
   "codemirror_mode": {
    "name": "ipython",
    "version": 2
   },
   "file_extension": ".py",
   "mimetype": "text/x-python",
   "name": "python",
   "nbconvert_exporter": "python",
   "pygments_lexer": "ipython2",
   "version": "2.7.6"
  }
 },
 "nbformat": 4,
 "nbformat_minor": 5
}
